{
  "nbformat": 4,
  "nbformat_minor": 0,
  "metadata": {
    "colab": {
      "provenance": []
    },
    "kernelspec": {
      "name": "python3",
      "display_name": "Python 3"
    },
    "language_info": {
      "name": "python"
    }
  },
  "cells": [
    {
      "cell_type": "code",
      "execution_count": null,
      "metadata": {
        "id": "kBdWipKqfhQq"
      },
      "outputs": [],
      "source": [
        "# ESC-50 데이터셋\n",
        "import pandas as pd\n",
        "import csv\n",
        "\n",
        "# ESC-50 CSV 파일 경로 설정\n",
        "csv_path = '/content/drive/MyDrive/DataSet/ESC-50-master/meta/esc50.csv'\n",
        "\n",
        "# 사용할 카테고리 설정 (예: \"dog\", \"cat\",...)\n",
        "desired_categories = [\"dog\", \"cat\",\n",
        "                      \"rain\", \"wind\", \"thunderstorm\",\n",
        "                      \"breathing\", \"coughing\", \"laughing\",\"drinking, sipping\",\n",
        "                      \"mouse_click\", \"keyboard_typing\",\n",
        "                      \"car horn\", \"train\", \"siren\"]\n",
        "\n",
        "# CSV 파일 불러오기\n",
        "data = pd.read_csv(csv_path)\n",
        "\n",
        "# 원하는 카테고리에 해당하는 행들 선택\n",
        "desired_data = data[data['category'].isin(desired_categories)]\n",
        "\n",
        "# 새로운 CSV 파일명 및 경로 설정\n",
        "new_csv_path = \"/content/drive/MyDrive/DataSet/dataset_esc.csv\"\n",
        "\n",
        "# 선택한 행들을 새로운 CSV 파일에 저장\n",
        "desired_data.to_csv(new_csv_path, index=False, quoting=csv.QUOTE_ALL)\n",
        "\n",
        "print(f\"Filtered data saved to {new_csv_path}\")\n"
      ]
    },
    {
      "cell_type": "code",
      "source": [
        "# ESC-50 카테고리 명 변경\n",
        "\n",
        "# 데이터셋 CSV 파일 경로 설정\n",
        "csv_path = \"/content/drive/MyDrive/DataSet/dataset_esc.csv\"\n",
        "\n",
        "# 카테고리 이름 변경 매핑\n",
        "category_mapping = {\n",
        "    \"breathing\":\"human\",\n",
        "    \"coughing\":\"human\",\n",
        "    \"laughing\":\"human\",\n",
        "    \"drinking, sipping\":\"human\"\n",
        "}\n",
        "\n",
        "# 데이터셋 CSV 파일 불러오기\n",
        "data = pd.read_csv(csv_path)\n",
        "\n",
        "# 카테고리 이름 변경\n",
        "data['category'] = data['category'].replace(category_mapping)\n",
        "\n",
        "# 변경된 데이터 저장\n",
        "data.to_csv(csv_path, index=False)\n",
        "\n",
        "print(\"Category names have been updated.\")\n"
      ],
      "metadata": {
        "id": "m_e6pn7mfoGi"
      },
      "execution_count": null,
      "outputs": []
    },
    {
      "cell_type": "code",
      "source": [
        "# ESC-50 열 삭제\n",
        "\n",
        "# 기존 데이터셋 CSV 파일 경로 설정\n",
        "existing_csv_path = \"/content/drive/MyDrive/DataSet/dataset_esc.csv\"\n",
        "\n",
        "# 필요한 열 이름 리스트\n",
        "desired_columns = [\"filename\", \"fold\", \"target\", \"category\", \"src_file\"]\n",
        "\n",
        "# 기존 데이터셋 CSV 파일 불러오기\n",
        "existing_data = pd.read_csv(existing_csv_path)\n",
        "\n",
        "# 필요한 열만 선택하여 새로운 데이터프레임 생성\n",
        "filtered_data = existing_data[desired_columns]\n",
        "\n",
        "# 변경된 데이터 저장\n",
        "filtered_data.to_csv(\"/content/drive/MyDrive/DataSet/dataset_esc.csv\", index=False)\n",
        "\n",
        "print(\"Filtered existing dataset saved.\")\n"
      ],
      "metadata": {
        "id": "AJulxohWfqkq"
      },
      "execution_count": null,
      "outputs": []
    },
    {
      "cell_type": "code",
      "source": [
        "# Urbansound8K\n",
        "\n",
        "# UrbanSound8K 데이터셋 CSV 파일 경로 설정\n",
        "urbansound_csv_path = \"/content/drive/MyDrive/UrbanSound8K/metadata/UrbanSound8K.csv\"\n",
        "\n",
        "# 필요한 열 이름 리스트\n",
        "desired_columns = [\"slice_file_name\", \"fold\", \"classID\", \"class\",\"fsID\"]\n",
        "\n",
        "# UrbanSound8K 데이터셋 CSV 파일 불러오기\n",
        "urbansound_data = pd.read_csv(urbansound_csv_path)\n",
        "\n",
        "# 필요한 열만 선택하여 새로운 데이터프레임 생성\n",
        "filtered_data = urbansound_data[desired_columns]\n",
        "\n",
        "# 변경된 데이터 저장\n",
        "filtered_data.to_csv(\"/content/drive/MyDrive/DataSet/dataset_us8k.csv\", index=False)\n",
        "\n",
        "print(\"Filtered UrbanSound8K dataset saved.\")\n"
      ],
      "metadata": {
        "id": "zyFkGxVlftP4"
      },
      "execution_count": null,
      "outputs": []
    },
    {
      "cell_type": "code",
      "source": [
        "# 기존 데이터셋 CSV 파일 경로 설정\n",
        "existing_csv_path = \"/content/drive/MyDrive/DataSet/dataset_us8k.csv\"\n",
        "\n",
        "# 열 이름 변경 매핑\n",
        "column_mapping = {\n",
        "    \"slice_file_name\": \"filename\",\n",
        "    \"classID\": \"target\",\n",
        "    \"class\": \"category\",\n",
        "    \"fsID\": \"src_file\"\n",
        "}\n",
        "\n",
        "# 기존 데이터셋 CSV 파일 불러오기\n",
        "existing_data = pd.read_csv(existing_csv_path)\n",
        "\n",
        "# 열 이름 변경\n",
        "existing_data.rename(columns=column_mapping, inplace=True)\n",
        "\n",
        "# 변경된 데이터 저장\n",
        "existing_data.to_csv(\"/content/drive/MyDrive/DataSet/dataset_us8k.csv\", index=False)\n",
        "\n",
        "print(\"Renamed existing dataset saved.\")\n"
      ],
      "metadata": {
        "id": "mSVTzIHsfwY0"
      },
      "execution_count": null,
      "outputs": []
    },
    {
      "cell_type": "code",
      "source": [
        "# US8K 카테고리 선별\n",
        "import csv\n",
        "\n",
        "csv_path = '/content/drive/MyDrive/DataSet/dataset_us8k.csv'\n",
        "\n",
        "# 사용할 카테고리 설정 (예: \"dog\", \"cat\",...)\n",
        "desired_categories = [\"street_music\"]\n",
        "\n",
        "# CSV 파일 불러오기\n",
        "data = pd.read_csv(csv_path)\n",
        "\n",
        "# 원하는 카테고리에 해당하는 행들 선택\n",
        "desired_data = data[data['category'].isin(desired_categories)]\n",
        "\n",
        "# 기존 CSV 파일명 및 경로 설정\n",
        "new_csv_path = \"/content/drive/MyDrive/DataSet/dataset_us8k.csv\"\n",
        "\n",
        "# 선택한 행들을 새로운 CSV 파일에 저장\n",
        "desired_data.to_csv(new_csv_path, index=False, quoting=csv.QUOTE_ALL)\n",
        "\n",
        "print(f\"Filtered data saved to {new_csv_path}\")"
      ],
      "metadata": {
        "id": "kD_M06eDfzp0"
      },
      "execution_count": null,
      "outputs": []
    },
    {
      "cell_type": "code",
      "source": [
        "# US8K 카테고리 이름 변\n",
        "# 데이터셋 CSV 파일 경로 설정\n",
        "csv_path = \"/content/drive/MyDrive/DataSet/dataset_us8k.csv\"\n",
        "\n",
        "# 카테고리 이름 변경 매핑\n",
        "category_mapping = {\n",
        "    \"street_music\":\"music\"\n",
        "}\n",
        "\n",
        "# 데이터셋 CSV 파일 불러오기\n",
        "data = pd.read_csv(csv_path)\n",
        "\n",
        "# 카테고리 이름 변경\n",
        "data['category'] = data['category'].replace(category_mapping)\n",
        "\n",
        "# 변경된 데이터 저장\n",
        "data.to_csv(csv_path, index=False)\n",
        "\n",
        "print(\"Category names have been updated.\")"
      ],
      "metadata": {
        "id": "GTyCC5r7f1u1"
      },
      "execution_count": null,
      "outputs": []
    },
    {
      "cell_type": "code",
      "source": [
        "# sd\n",
        "import os\n",
        "import csv\n",
        "import random\n",
        "\n",
        "# 폴더 경로 설정\n",
        "folder_path = '/content/drive/MyDrive/DataSet/sd_data'\n",
        "\n",
        "# CSV 파일 경로 설정\n",
        "csv_file_path = '/content/drive/MyDrive/DataSet/sd_dataset.csv'\n",
        "\n",
        "# CSV 파일에 저장할 헤더\n",
        "csv_header = ['filename', 'fold', 'target', 'category', 'src_file']\n",
        "\n",
        "# CSV 파일 열기 및 헤더 쓰기\n",
        "with open(csv_file_path, 'w', newline='', encoding='utf-8') as csv_file:\n",
        "    writer = csv.writer(csv_file)\n",
        "    writer.writerow(csv_header)\n",
        "\n",
        "    # 폴더 내의 모든 파일 검사\n",
        "    for folder_name, subfolders, filenames in os.walk(folder_path):\n",
        "        for filename in filenames:\n",
        "            if filename.endswith('.wav'):\n",
        "                file_path = os.path.join(folder_name, filename)\n",
        "\n",
        "                # 폴더 이름 가져오기\n",
        "                fold = str(random.randint(0, 9))\n",
        "\n",
        "                # 카테고리와 타겟 정보 설정\n",
        "                category = 'conversation'\n",
        "                target = 12\n",
        "\n",
        "                # 파일명에서 필요한 정보 추출\n",
        "                src_file = filename.split('_')[2]\n",
        "\n",
        "                # CSV 파일에 데이터 쓰기\n",
        "                writer.writerow([filename, fold, target, category, src_file])\n",
        "\n",
        "print(\"CSV 파일이 생성되었습니다.\")\n"
      ],
      "metadata": {
        "id": "1ecOpsNtf30e"
      },
      "execution_count": null,
      "outputs": []
    },
    {
      "cell_type": "code",
      "source": [
        "# sd/sn\n",
        "import os\n",
        "import csv\n",
        "import random\n",
        "\n",
        "# 폴더 경로 설정\n",
        "folder_path = '/content/drive/MyDrive/DataSet/sdsn'\n",
        "\n",
        "# CSV 파일 경로 설정\n",
        "csv_file_path = '/content/drive/MyDrive/DataSet/sd_sn_dataset.csv'\n",
        "\n",
        "# CSV 파일에 저장할 헤더\n",
        "csv_header = ['filename', 'fold', 'target', 'category', 'src_file']\n",
        "\n",
        "# CSV 파일 열기 및 헤더 쓰기\n",
        "with open(csv_file_path, 'w', newline='', encoding='utf-8') as csv_file:\n",
        "    writer = csv.writer(csv_file)\n",
        "    writer.writerow(csv_header)\n",
        "\n",
        "    # 폴더 내의 모든 파일 검사\n",
        "    for folder_name, subfolders, filenames in os.walk(folder_path):\n",
        "        for filename in filenames:\n",
        "            if filename.endswith('.wav'):\n",
        "                file_path = os.path.join(folder_name, filename)\n",
        "\n",
        "                # 폴더 이름 가져오기\n",
        "                fold = str(random.randint(0, 9))\n",
        "\n",
        "                # 카테고리와 타겟 정보 설정\n",
        "                category = 'conversation'\n",
        "                target = 12\n",
        "\n",
        "                # 파일명에서 필요한 정보 추출\n",
        "                src_file = filename.split('_')[2]\n",
        "\n",
        "                # CSV 파일에 데이터 쓰기\n",
        "                writer.writerow([filename, fold, target, category, src_file])\n",
        "\n",
        "print(\"CSV 파일이 생성되었습니다.\")\n"
      ],
      "metadata": {
        "id": "ti9rx2pDf_HM"
      },
      "execution_count": null,
      "outputs": []
    },
    {
      "cell_type": "code",
      "source": [
        "# AI hub Sd/Sn\n",
        "csv1_path = \"/content/drive/MyDrive/DataSet/sd_dataset.csv\"\n",
        "csv2_path = '/content/drive/MyDrive/DataSet/sd_sn_dataset.csv'\n",
        "# 두 CSV 파일 불러오기\n",
        "data1 = pd.read_csv(csv1_path)\n",
        "data2 = pd.read_csv(csv2_path)\n",
        "\n",
        "# 두 데이터프레임 병합\n",
        "merged_data = pd.concat([data1, data2], ignore_index=True)\n",
        "\n",
        "# 병합된 데이터 저장\n",
        "merged_data.to_csv(\"/content/drive/MyDrive/DataSet/aihub_dataset.csv\", index=False)\n",
        "\n",
        "print(\"Merged dataset saved.\")"
      ],
      "metadata": {
        "id": "3KLa3wuJgBlk"
      },
      "execution_count": null,
      "outputs": []
    },
    {
      "cell_type": "code",
      "source": [
        "# ESC-50 US8K  ai hub csv 합치기\n",
        "\n",
        "# esc-50 CSV 파일 경로 설정\n",
        "csv1_path = \"/content/drive/MyDrive/DataSet/dataset_esc.csv\"\n",
        "\n",
        "# us8k CSV 파일 경로 설정\n",
        "csv2_path = \"/content/drive/MyDrive/DataSet/dataset_us8k.csv\"\n",
        "\n",
        "# AI hub CSV 파일 경로 설정\n",
        "csv3_path = \"/content/drive/MyDrive/DataSet/aihub_dataset.csv\"\n",
        "\n",
        "# 두 CSV 파일 불러오기\n",
        "data1 = pd.read_csv(csv1_path)\n",
        "data2 = pd.read_csv(csv2_path)\n",
        "data3 = pd.read_csv(csv3_path)\n",
        "\n",
        "# 두 데이터프레임 병합\n",
        "merged_data = pd.concat([data1, data2, data3], ignore_index=True)\n",
        "\n",
        "# 병합된 데이터 저장\n",
        "merged_data.to_csv(\"/content/drive/MyDrive/DataSet/dataset.csv\", index=False)\n",
        "\n",
        "print(\"Merged dataset saved.\")\n"
      ],
      "metadata": {
        "id": "EAoVCaEEgETC"
      },
      "execution_count": null,
      "outputs": []
    },
    {
      "cell_type": "code",
      "source": [
        "# music 카테고리 dataset 재정리\n",
        "\n",
        "# CSV 파일 읽기\n",
        "file_path = '/content/drive/MyDrive/DataSet/dataset.csv'\n",
        "data = pd.read_csv(file_path)\n",
        "\n",
        "# category가 \"music\"인 데이터 제외\n",
        "filtered_data = data[data['category'] != 'music']\n",
        "\n",
        "\n",
        "filtered_data.to_csv(file_path, index=False)  # 원본 파일 덮어쓰기\n",
        "\n",
        "print(\"Exclude data with the 'music' category from the dataset\")"
      ],
      "metadata": {
        "id": "7i_248fMgFv3"
      },
      "execution_count": null,
      "outputs": []
    },
    {
      "cell_type": "code",
      "source": [
        "# 기존 데이터셋 읽기\n",
        "dataset_file_path = '/content/drive/MyDrive/DataSet/dataset.csv'\n",
        "dataset = pd.read_csv(dataset_file_path)\n",
        "\n",
        "# 추가할 데이터 파일 읽기\n",
        "music_file_path = '/content/drive/MyDrive/DataSet/music_dataset.csv'\n",
        "music_data = pd.read_csv(music_file_path)\n",
        "\n",
        "# 두 데이터셋을 결합하여 새로운 데이터셋 생성\n",
        "new_dataset = pd.concat([dataset, music_data], ignore_index=True)\n",
        "\n",
        "# 기존 데이터셋 파일을 새로운 데이터셋으로 덮어쓰기\n",
        "new_dataset.to_csv(dataset_file_path, index=False)\n",
        "\n",
        "print(\"Finished\")\n"
      ],
      "metadata": {
        "id": "9mmGHvjugIgF"
      },
      "execution_count": null,
      "outputs": []
    },
    {
      "cell_type": "code",
      "source": [
        "#target 정리\n",
        "\n",
        "# 데이터셋 CSV 파일 경로 설정\n",
        "csv_path = \"/content/drive/MyDrive/DataSet/dataset.csv\"\n",
        "\n",
        "# 데이터셋 CSV 파일 불러오기\n",
        "data = pd.read_csv(csv_path)\n",
        "\n",
        "# 카테고리 이름에 따라 타겟 값을 변경하는 함수\n",
        "def update_target(category):\n",
        "    if category == \"dog\":\n",
        "        return 0\n",
        "    elif category == \"cat\":\n",
        "        return 1\n",
        "    elif category == \"rain\":\n",
        "        return 2\n",
        "    elif category == \"wind\":\n",
        "        return 3\n",
        "    elif category == \"thunderstorm\":\n",
        "        return 4\n",
        "    elif category == \"human\":\n",
        "        return 5\n",
        "    elif category == \"mouse_click\":\n",
        "        return 6\n",
        "    elif category == \"keyboard_typing\":\n",
        "        return 7\n",
        "    elif category == \"siren\":\n",
        "        return 8\n",
        "    elif category == \"car horn\":\n",
        "        return 9\n",
        "    elif category == \"train\":\n",
        "        return 10\n",
        "    elif category == \"music\":\n",
        "        return 11\n",
        "    elif category == \"conversation\":\n",
        "        return 12\n",
        "        return -1  # 만약 카테고리가 없는 경우의 기본값 설정\n",
        "\n",
        "# '카테고리' 열을 기반으로 'target' 열 값을 변경\n",
        "data['target'] = data['category'].apply(update_target)\n",
        "\n",
        "# NaN 값이나 무한대 값을 NaN으로 대체\n",
        "data.replace([np.inf, -np.inf], np.nan, inplace=True)\n",
        "data.fillna(-1, inplace=True)  # NaN 값은 -1로 대체\n",
        "\n",
        "# 'target' 열 데이터 타입을 정수형으로 변경\n",
        "data['target'] = data['target'].astype(int)\n",
        "\n",
        "# 변경된 데이터 저장\n",
        "data.to_csv(\"/content/drive/MyDrive/DataSet/dataset.csv\", index=False)\n",
        "\n",
        "print(\"Updated dataset saved.\")"
      ],
      "metadata": {
        "id": "Uja2RSslgKC8"
      },
      "execution_count": null,
      "outputs": []
    },
    {
      "cell_type": "code",
      "source": [],
      "metadata": {
        "id": "Dj3YbcLD_Y4d"
      },
      "execution_count": null,
      "outputs": []
    },
    {
      "cell_type": "code",
      "execution_count": null,
      "metadata": {
        "colab": {
          "base_uri": "https://localhost:8080/",
          "height": 411
        },
        "id": "E4fky82EZhro",
        "outputId": "d11b08d7-32f2-48cd-d40e-10169f3e19fb"
      },
      "outputs": [
        {
          "ename": "KeyboardInterrupt",
          "evalue": "ignored",
          "output_type": "error",
          "traceback": [
            "\u001b[0;31m---------------------------------------------------------------------------\u001b[0m",
            "\u001b[0;31mKeyboardInterrupt\u001b[0m                         Traceback (most recent call last)",
            "\u001b[0;32m<ipython-input-13-a190f76531bb>\u001b[0m in \u001b[0;36m<cell line: 12>\u001b[0;34m()\u001b[0m\n\u001b[1;32m     10\u001b[0m \u001b[0;31m# UrbanSound8K 데이터셋 폴더 내의 오디오 파일 목록 가져오기\u001b[0m\u001b[0;34m\u001b[0m\u001b[0;34m\u001b[0m\u001b[0m\n\u001b[1;32m     11\u001b[0m \u001b[0murbansound_files\u001b[0m \u001b[0;34m=\u001b[0m \u001b[0;34m[\u001b[0m\u001b[0;34m]\u001b[0m\u001b[0;34m\u001b[0m\u001b[0;34m\u001b[0m\u001b[0m\n\u001b[0;32m---> 12\u001b[0;31m \u001b[0;32mfor\u001b[0m \u001b[0mroot\u001b[0m\u001b[0;34m,\u001b[0m \u001b[0mdirs\u001b[0m\u001b[0;34m,\u001b[0m \u001b[0mfiles\u001b[0m \u001b[0;32min\u001b[0m \u001b[0mos\u001b[0m\u001b[0;34m.\u001b[0m\u001b[0mwalk\u001b[0m\u001b[0;34m(\u001b[0m\u001b[0murbansound_data_path\u001b[0m\u001b[0;34m)\u001b[0m\u001b[0;34m:\u001b[0m\u001b[0;34m\u001b[0m\u001b[0;34m\u001b[0m\u001b[0m\n\u001b[0m\u001b[1;32m     13\u001b[0m     \u001b[0;32mfor\u001b[0m \u001b[0mfile\u001b[0m \u001b[0;32min\u001b[0m \u001b[0mfiles\u001b[0m\u001b[0;34m:\u001b[0m\u001b[0;34m\u001b[0m\u001b[0;34m\u001b[0m\u001b[0m\n\u001b[1;32m     14\u001b[0m         \u001b[0;32mif\u001b[0m \u001b[0mfile\u001b[0m\u001b[0;34m.\u001b[0m\u001b[0mendswith\u001b[0m\u001b[0;34m(\u001b[0m\u001b[0;34m\".wav\"\u001b[0m\u001b[0;34m)\u001b[0m\u001b[0;34m:\u001b[0m\u001b[0;34m\u001b[0m\u001b[0;34m\u001b[0m\u001b[0m\n",
            "\u001b[0;32m/usr/lib/python3.10/os.py\u001b[0m in \u001b[0;36m_walk\u001b[0;34m(top, topdown, onerror, followlinks)\u001b[0m\n\u001b[1;32m    417\u001b[0m             \u001b[0;31m# above.\u001b[0m\u001b[0;34m\u001b[0m\u001b[0;34m\u001b[0m\u001b[0m\n\u001b[1;32m    418\u001b[0m             \u001b[0;32mif\u001b[0m \u001b[0mfollowlinks\u001b[0m \u001b[0;32mor\u001b[0m \u001b[0;32mnot\u001b[0m \u001b[0mislink\u001b[0m\u001b[0;34m(\u001b[0m\u001b[0mnew_path\u001b[0m\u001b[0;34m)\u001b[0m\u001b[0;34m:\u001b[0m\u001b[0;34m\u001b[0m\u001b[0;34m\u001b[0m\u001b[0m\n\u001b[0;32m--> 419\u001b[0;31m                 \u001b[0;32myield\u001b[0m \u001b[0;32mfrom\u001b[0m \u001b[0m_walk\u001b[0m\u001b[0;34m(\u001b[0m\u001b[0mnew_path\u001b[0m\u001b[0;34m,\u001b[0m \u001b[0mtopdown\u001b[0m\u001b[0;34m,\u001b[0m \u001b[0monerror\u001b[0m\u001b[0;34m,\u001b[0m \u001b[0mfollowlinks\u001b[0m\u001b[0;34m)\u001b[0m\u001b[0;34m\u001b[0m\u001b[0;34m\u001b[0m\u001b[0m\n\u001b[0m\u001b[1;32m    420\u001b[0m     \u001b[0;32melse\u001b[0m\u001b[0;34m:\u001b[0m\u001b[0;34m\u001b[0m\u001b[0;34m\u001b[0m\u001b[0m\n\u001b[1;32m    421\u001b[0m         \u001b[0;31m# Recurse into sub-directories\u001b[0m\u001b[0;34m\u001b[0m\u001b[0;34m\u001b[0m\u001b[0m\n",
            "\u001b[0;32m/usr/lib/python3.10/os.py\u001b[0m in \u001b[0;36m_walk\u001b[0;34m(top, topdown, onerror, followlinks)\u001b[0m\n\u001b[1;32m    356\u001b[0m         \u001b[0;31m# Note that scandir is global in this module due\u001b[0m\u001b[0;34m\u001b[0m\u001b[0;34m\u001b[0m\u001b[0m\n\u001b[1;32m    357\u001b[0m         \u001b[0;31m# to earlier import-*.\u001b[0m\u001b[0;34m\u001b[0m\u001b[0;34m\u001b[0m\u001b[0m\n\u001b[0;32m--> 358\u001b[0;31m         \u001b[0mscandir_it\u001b[0m \u001b[0;34m=\u001b[0m \u001b[0mscandir\u001b[0m\u001b[0;34m(\u001b[0m\u001b[0mtop\u001b[0m\u001b[0;34m)\u001b[0m\u001b[0;34m\u001b[0m\u001b[0;34m\u001b[0m\u001b[0m\n\u001b[0m\u001b[1;32m    359\u001b[0m     \u001b[0;32mexcept\u001b[0m \u001b[0mOSError\u001b[0m \u001b[0;32mas\u001b[0m \u001b[0merror\u001b[0m\u001b[0;34m:\u001b[0m\u001b[0;34m\u001b[0m\u001b[0;34m\u001b[0m\u001b[0m\n\u001b[1;32m    360\u001b[0m         \u001b[0;32mif\u001b[0m \u001b[0monerror\u001b[0m \u001b[0;32mis\u001b[0m \u001b[0;32mnot\u001b[0m \u001b[0;32mNone\u001b[0m\u001b[0;34m:\u001b[0m\u001b[0;34m\u001b[0m\u001b[0;34m\u001b[0m\u001b[0m\n",
            "\u001b[0;31mKeyboardInterrupt\u001b[0m: "
          ]
        }
      ],
      "source": [
        "# esc-50 us8K audio 합치기\n",
        "import os\n",
        "import shutil\n",
        "\n",
        "# UrbanSound8K 데이터셋의 경로 설정\n",
        "urbansound_data_path = \"/content/drive/MyDrive/DataSet/US8K/UrbanSound8K/audio\"\n",
        "# ESC-50 데이터셋의 \"audio\" 폴더 경로 설정\n",
        "esc50_audio_path = \"/content/drive/MyDrive/DataSet/ESC-50-master/audio\"\n",
        "\n",
        "# UrbanSound8K 데이터셋 폴더 내의 오디오 파일 목록 가져오기\n",
        "urbansound_files = []\n",
        "for root, dirs, files in os.walk(urbansound_data_path):\n",
        "    for file in files:\n",
        "        if file.endswith(\".wav\"):\n",
        "            urbansound_files.append(os.path.join(root, file))\n",
        "\n",
        "# UrbanSound8K 오디오 파일들을 ESC-50 데이터셋의 audio 폴더로 복사\n",
        "for urbansound_file in urbansound_files:\n",
        "    file_name = os.path.basename(urbansound_file)\n",
        "    target_path = os.path.join(esc50_audio_path, file_name)\n",
        "    shutil.copyfile(urbansound_file, target_path)"
      ]
    },
    {
      "cell_type": "code",
      "source": [
        "# AI hub 파일(sd) -> esc master 50에 추가\n",
        "import os\n",
        "import shutil\n",
        "\n",
        "# AI hub 데이터셋의 경로 설정\n",
        "hub_data_path = \"/content/drive/MyDrive/DataSet/sd_data\"\n",
        "# ESC-50 데이터셋의 \"audio\" 폴더 경로 설정\n",
        "esc50_audio_path = \"/content/drive/MyDrive/DataSet/ESC-50-master/audio\"\n",
        "\n",
        "# UrbanSound8K 데이터셋 폴더 내의 오디오 파일 목록 가져오기\n",
        "hub_files = []\n",
        "for root, dirs, files in os.walk(hub_data_path):\n",
        "    for file in files:\n",
        "        if file.endswith(\".wav\"):\n",
        "            hub_files.append(os.path.join(root, file))\n",
        "\n",
        "# UrbanSound8K 오디오 파일들을 ESC-50 데이터셋의 audio 폴더로 복사\n",
        "for hub_file in hub_files:\n",
        "    file_name = os.path.basename(hub_file)\n",
        "    target_path = os.path.join(esc50_audio_path, file_name)\n",
        "    shutil.copyfile(hub_file, target_path)\n"
      ],
      "metadata": {
        "id": "sTku1Cz4_h5c"
      },
      "execution_count": null,
      "outputs": []
    },
    {
      "cell_type": "code",
      "source": [
        "# AI hub 파일(sn) -> esc master 50에 추가\n",
        "import os\n",
        "import shutil\n",
        "\n",
        "# AI hub 데이터셋의 경로 설정\n",
        "hub_data_path = \"/content/drive/MyDrive/DataSet/sdsn\"\n",
        "# ESC-50 데이터셋의 \"audio\" 폴더 경로 설정\n",
        "esc50_audio_path = \"/content/drive/MyDrive/DataSet/ESC-50-master/audio\"\n",
        "\n",
        "# UrbanSound8K 데이터셋 폴더 내의 오디오 파일 목록 가져오기\n",
        "hub_files = []\n",
        "for root, dirs, files in os.walk(hub_data_path):\n",
        "    for file in files:\n",
        "        if file.endswith(\".wav\"):\n",
        "            hub_files.append(os.path.join(root, file))\n",
        "\n",
        "# UrbanSound8K 오디오 파일들을 ESC-50 데이터셋의 audio 폴더로 복사\n",
        "for hub_file in hub_files:\n",
        "    file_name = os.path.basename(hub_file)\n",
        "    target_path = os.path.join(esc50_audio_path, file_name)\n",
        "    shutil.copyfile(hub_file, target_path)"
      ],
      "metadata": {
        "id": "6Xr-G99C_lrv"
      },
      "execution_count": null,
      "outputs": []
    }
  ]
}